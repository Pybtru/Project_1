{
 "cells": [
  {
   "cell_type": "markdown",
   "metadata": {},
   "source": [
    "WE READ THE CSV AND TRANSFORM IT INTO DATA FRAMES"
   ]
  },
  {
   "cell_type": "code",
   "execution_count": 82,
   "metadata": {},
   "outputs": [],
   "source": [
    "import pandas as pd\n",
    "checkin_checkout = pd.read_csv('checkin_checkout_history_updated.csv')\n",
    "gym_locations_data = pd.read_csv('gym_locations_data.csv')\n",
    "subscription_plans = pd.read_csv('subscription_plans.csv')\n",
    "users_data = pd.read_csv('users_data.csv')"
   ]
  },
  {
   "cell_type": "markdown",
   "metadata": {},
   "source": [
    "WE CREATE THE CONEXION TO A BBDD AND TRANSFORM THE DATAFRAMES INTO TABLES"
   ]
  },
  {
   "cell_type": "code",
   "execution_count": 83,
   "metadata": {},
   "outputs": [
    {
     "data": {
      "text/plain": [
       "5000"
      ]
     },
     "execution_count": 83,
     "metadata": {},
     "output_type": "execute_result"
    }
   ],
   "source": [
    "#pip install sqlalchemy\n",
    "from sqlalchemy import create_engine\n",
    "\n",
    "# Create a conexion to a SQLite data base\n",
    "engine = create_engine('sqlite:///mi_base_de_datos.db')\n",
    "\n",
    "\n",
    "# Write the DataFrame to a SQL table\n",
    "checkin_checkout.to_sql('checkin_checkout', con=engine, index=False, if_exists='replace')\n",
    "gym_locations_data.to_sql('gym_locations_data', con=engine, index=False, if_exists='replace')\n",
    "subscription_plans.to_sql('subscription_plans', con=engine, index=False, if_exists='replace')\n",
    "users_data.to_sql('users_data', con=engine, index=False, if_exists='replace')"
   ]
  },
  {
   "cell_type": "markdown",
   "metadata": {},
   "source": [
    "WE CONNECT TO THE DATABASE AND CREATE A CURSOR TO EXECUTE THE SQL QUERIES"
   ]
  },
  {
   "cell_type": "code",
   "execution_count": 84,
   "metadata": {},
   "outputs": [],
   "source": [
    "# Create a cursor to run SQL queries\n",
    "import sqlite3\n",
    "# Connect to the SQLite database\n",
    "conn = sqlite3.connect('mi_base_de_datos.db')\n",
    "\n",
    "# Create a cursor to run SQL queries\n",
    "cursor = conn.cursor()"
   ]
  },
  {
   "cell_type": "code",
   "execution_count": 85,
   "metadata": {},
   "outputs": [],
   "source": [
    "cursor.execute('''\n",
    "DROP TABLE Tabla_1 \n",
    "''')\n",
    "# Commit changes to the database\n",
    "conn.commit()"
   ]
  },
  {
   "cell_type": "markdown",
   "metadata": {},
   "source": [
    "WE CREATE A TABLE WITH THE FIELDS WE WANT TO START CONSULTING"
   ]
  },
  {
   "cell_type": "code",
   "execution_count": 86,
   "metadata": {},
   "outputs": [],
   "source": [
    "cursor.execute('''\n",
    "CREATE TABLE Tabla_1 AS\n",
    "SELECT checkin_checkout.gym_id, checkin_checkout.workout_type, checkin_checkout.calories_burned, users_data.age, users_data.gender, users_data.birthdate\n",
    "FROM checkin_checkout\n",
    "INNER JOIN users_data\n",
    "ON checkin_checkout.user_id = users_data.user_id\n",
    "''')\n",
    "# Commit changes to the database\n",
    "conn.commit()"
   ]
  },
  {
   "cell_type": "code",
   "execution_count": 87,
   "metadata": {},
   "outputs": [
    {
     "name": "stdout",
     "output_type": "stream",
     "text": [
      "\n",
      "Mostramos la Tabla_1:\n",
      "('gym_6', 'Weightlifting', 462, 41, 'Female', '1998-03-10')\n",
      "('gym_7', 'Cardio', 858, 37, 'Male', '1986-03-12')\n",
      "('gym_10', 'Swimming', 706, 61, 'Non-binary', '1961-08-13')\n"
     ]
    }
   ],
   "source": [
    "cursor.execute('''\n",
    "SELECT * from Tabla_1 group by gender\n",
    "''')\n",
    "result = cursor.fetchall()\n",
    "print(\"\\nMostramos la Tabla_1:\")\n",
    "for row in result:\n",
    "    print(row)"
   ]
  },
  {
   "cell_type": "markdown",
   "metadata": {},
   "source": [
    "WE CREATE A TABLE THAT ORDERS THE NUMBER OF PEOPLE SIGNED UP FOR THE GYM BY GENDER"
   ]
  },
  {
   "cell_type": "code",
   "execution_count": 88,
   "metadata": {},
   "outputs": [
    {
     "name": "stdout",
     "output_type": "stream",
     "text": [
      "\n",
      "Número de abonados al gym por género:\n",
      "('Male', 139917)\n",
      "('Female', 130716)\n",
      "('Non-binary', 29367)\n"
     ]
    }
   ],
   "source": [
    "cursor.execute('''\n",
    "SELECT gender, COUNT(gym_id) as Contador from Tabla_1 group by gender order by Contador desc\n",
    "''')\n",
    "result = cursor.fetchall()\n",
    "print(\"\\nNúmero de abonados al gym por género:\")\n",
    "for row in result:\n",
    "    print(row)"
   ]
  },
  {
   "cell_type": "markdown",
   "metadata": {},
   "source": [
    "WE CREATE A TABLE THAT ORDERS THE NUMBER OF PEOPLE PER GYM"
   ]
  },
  {
   "cell_type": "code",
   "execution_count": 89,
   "metadata": {},
   "outputs": [
    {
     "name": "stdout",
     "output_type": "stream",
     "text": [
      "\n",
      "Número de personas por gimnasio:\n",
      "('gym_3', 30286)\n",
      "('gym_4', 30182)\n",
      "('gym_5', 30104)\n",
      "('gym_7', 29954)\n",
      "('gym_1', 29952)\n",
      "('gym_8', 29935)\n",
      "('gym_10', 29925)\n",
      "('gym_2', 29895)\n",
      "('gym_6', 29893)\n",
      "('gym_9', 29874)\n"
     ]
    }
   ],
   "source": [
    "cursor.execute('''\n",
    "SELECT gym_id, COUNT(gender) as Contador from Tabla_1 group by gym_id order by Contador desc\n",
    "''')\n",
    "result = cursor.fetchall()\n",
    "print(\"\\nNúmero de personas por gimnasio:\")\n",
    "for row in result:\n",
    "    print(row)"
   ]
  },
  {
   "cell_type": "markdown",
   "metadata": {},
   "source": [
    "TO GET MORE VARIABLES, WE JOIN THE EXISTING TABLE WITH THE TABLE \"gym_locations_data\" WITH WHICH WE WILL DRAW MORE CONCLUSIONS"
   ]
  },
  {
   "cell_type": "code",
   "execution_count": null,
   "metadata": {},
   "outputs": [],
   "source": [
    "cursor.execute('''\n",
    "CREATE TABLE Tabla_2 AS\n",
    "SELECT Tabla_1.gym_id, Tabla_1.workout_type, Tabla_1.calories_burned, Tabla_1.age, Tabla_1.gender, Tabla_1.birthdate, \n",
    "gym_locations_data.location, gym_locations_data.gym_type, gym_locations_data.facilities\n",
    "FROM Tabla_1\n",
    "INNER JOIN gym_locations_data\n",
    "ON Tabla_1.gym_id = gym_locations_data.gym_id\n",
    "''')\n",
    "# Commit changes to the database\n",
    "conn.commit()"
   ]
  },
  {
   "cell_type": "markdown",
   "metadata": {},
   "source": [
    "NOW WE WILL BE ABLE TO KNOW THE STATES WITH THE MOST PEOPLE WHO GO TO THE GYM"
   ]
  },
  {
   "cell_type": "code",
   "execution_count": 91,
   "metadata": {},
   "outputs": [
    {
     "name": "stdout",
     "output_type": "stream",
     "text": [
      "\n",
      "Estados con más personas que van al gym:\n",
      "('gym_3', 'Chicago', 30286)\n",
      "('gym_4', 'Houston', 30182)\n",
      "('gym_5', 'Phoenix', 30104)\n",
      "('gym_7', 'San Antonio', 29954)\n",
      "('gym_1', 'New York', 29952)\n",
      "('gym_8', 'San Diego', 29935)\n",
      "('gym_10', 'San Jose', 29925)\n",
      "('gym_2', 'Los Angeles', 29895)\n",
      "('gym_6', 'Philadelphia', 29893)\n",
      "('gym_9', 'Dallas', 29874)\n"
     ]
    }
   ],
   "source": [
    "cursor.execute('''\n",
    "SELECT gym_id, location, COUNT(gender) as Contador from Tabla_2 group by gym_id order by Contador desc\n",
    "''')\n",
    "result = cursor.fetchall()\n",
    "print(\"\\nEstados con más personas que van al gym:\")\n",
    "for row in result:\n",
    "    print(row)"
   ]
  },
  {
   "cell_type": "markdown",
   "metadata": {},
   "source": [
    "FROM THE GEOGRAPHY WITH THE MOST USERS (CHICAGO), WE FIND OUT WHICH SPORTS ARE THE MOST PRACTICED"
   ]
  },
  {
   "cell_type": "code",
   "execution_count": 92,
   "metadata": {},
   "outputs": [
    {
     "name": "stdout",
     "output_type": "stream",
     "text": [
      "\n",
      "Deportes más practicados en Chicago:\n",
      "('Pilates', 5225)\n",
      "('Yoga', 5106)\n",
      "('Weightlifting', 5054)\n",
      "('Swimming', 5012)\n",
      "('CrossFit', 4999)\n",
      "('Cardio', 4890)\n"
     ]
    }
   ],
   "source": [
    "cursor.execute('''\n",
    "SELECT workout_type, COUNT(gender) as Contador from Tabla_2\n",
    "WHERE location = 'Chicago'\n",
    "group by workout_type order by Contador desc\n",
    "''')\n",
    "result = cursor.fetchall()\n",
    "print(\"\\nDeportes más practicados en Chicago:\")\n",
    "for row in result:\n",
    "    print(row)"
   ]
  },
  {
   "cell_type": "markdown",
   "metadata": {},
   "source": [
    "WITHIN THE GEOGRAPHY \"CHICAGO\" AND THE SPORT \"PILATES\" WE GET THE DISTINCTION BY GENDER"
   ]
  },
  {
   "cell_type": "code",
   "execution_count": 93,
   "metadata": {},
   "outputs": [
    {
     "name": "stdout",
     "output_type": "stream",
     "text": [
      "\n",
      "Ordenación por género de gente de Chicago que practica Pilates:\n",
      "('Male', 2437)\n",
      "('Female', 2301)\n",
      "('Non-binary', 487)\n"
     ]
    }
   ],
   "source": [
    "cursor.execute('''\n",
    "SELECT gender, COUNT(age) as Contador from Tabla_2\n",
    "WHERE location = 'Chicago' and workout_type = 'Pilates'\n",
    "group by gender order by Contador desc\n",
    "''')\n",
    "result = cursor.fetchall()\n",
    "print(\"\\nOrdenación por género de gente de Chicago que practica Pilates:\")\n",
    "for row in result:\n",
    "    print(row)"
   ]
  },
  {
   "cell_type": "markdown",
   "metadata": {},
   "source": [
    "FROM THE GEOGRAPHY \"CHICAGO\" WE GET WHICH SPORTS ON AVERAGE BURN THE MOST CALORIES"
   ]
  },
  {
   "cell_type": "code",
   "execution_count": 94,
   "metadata": {},
   "outputs": [
    {
     "name": "stdout",
     "output_type": "stream",
     "text": [
      "\n",
      "Calories burned people from Chicago:\n",
      "('Yoga', 892.7873090481786)\n",
      "('CrossFit', 892.3872774554911)\n",
      "('Pilates', 888.3523444976076)\n",
      "('Cardio', 888.1883435582822)\n",
      "('Swimming', 882.9772545889864)\n",
      "('Weightlifting', 880.0227542540562)\n"
     ]
    }
   ],
   "source": [
    "cursor.execute('''\n",
    "SELECT workout_type, AVG(calories_burned) as Contador from Tabla_2\n",
    "WHERE location = 'Chicago'\n",
    "group by workout_type order by Contador desc\n",
    "''')\n",
    "result = cursor.fetchall()\n",
    "print(\"\\nCalories burned people from Chicago:\")\n",
    "for row in result:\n",
    "    print(row)"
   ]
  },
  {
   "cell_type": "markdown",
   "metadata": {},
   "source": [
    "WE FIND OUT WHICH ARE THE MOST POPULAR TYPES OF TRAINING AMONG ALL THE GYMS"
   ]
  },
  {
   "cell_type": "code",
   "execution_count": 95,
   "metadata": {},
   "outputs": [
    {
     "name": "stdout",
     "output_type": "stream",
     "text": [
      "\n",
      "Most popular sports between all the gyms:\n",
      "('Weightlifting', 50306)\n",
      "('Swimming', 50133)\n",
      "('Pilates', 50035)\n",
      "('CrossFit', 49976)\n",
      "('Yoga', 49921)\n",
      "('Cardio', 49629)\n"
     ]
    }
   ],
   "source": [
    "cursor.execute('''\n",
    "SELECT workout_type, COUNT(gender) as Contador from Tabla_2 group by workout_type order by Contador desc\n",
    "''')\n",
    "result = cursor.fetchall()\n",
    "print(\"\\nMost popular sports between all the gyms:\")\n",
    "for row in result:\n",
    "    print(row)"
   ]
  },
  {
   "cell_type": "markdown",
   "metadata": {},
   "source": [
    "WE TAKE THE SPORTS THAT BURN THE MOST CALORIES ON AVERAGE OUT OF ALL THE GYMS"
   ]
  },
  {
   "cell_type": "code",
   "execution_count": 96,
   "metadata": {},
   "outputs": [
    {
     "name": "stdout",
     "output_type": "stream",
     "text": [
      "\n",
      "Calories on average out of all the gyms:\n",
      "('Swimming', 887.6621187640875)\n",
      "('Weightlifting', 887.1352721345366)\n",
      "('CrossFit', 886.2506002881383)\n",
      "('Yoga', 885.4820215941187)\n",
      "('Cardio', 885.4621088476496)\n",
      "('Pilates', 884.525312281403)\n"
     ]
    }
   ],
   "source": [
    "cursor.execute('''\n",
    "SELECT workout_type, AVG(calories_burned) as Contador from Tabla_2 group by workout_type order by Contador desc\n",
    "''')\n",
    "result = cursor.fetchall()\n",
    "print(\"\\nCalories on average out of all the gyms:\")\n",
    "for row in result:\n",
    "    print(row)"
   ]
  },
  {
   "cell_type": "markdown",
   "metadata": {},
   "source": [
    "WE PROCEED TO VISUALIZE THE RESULTS IN GRAPHS"
   ]
  },
  {
   "cell_type": "code",
   "execution_count": 97,
   "metadata": {},
   "outputs": [],
   "source": [
    "import matplotlib.pyplot as plt\n",
    "import seaborn as sns"
   ]
  },
  {
   "cell_type": "code",
   "execution_count": null,
   "metadata": {},
   "outputs": [],
   "source": [
    "cursor.execute('''\n",
    "CREATE TABLE Sports_calories AS\n",
    "SELECT workout_type, AVG(calories_burned) as Contador from Tabla_2 group by workout_type order by Contador desc\n",
    "''')\n",
    "# Commit changes to the database\n",
    "conn.commit()"
   ]
  },
  {
   "cell_type": "code",
   "execution_count": 98,
   "metadata": {},
   "outputs": [],
   "source": [
    "# Read the SQL Table in a Panda DataFrame\n",
    "query = \"SELECT * FROM Sports_calories\"\n",
    "df = pd.read_sql(query, conn)\n",
    "\n",
    "# Export the DataFrame to a CSV file\n",
    "df.to_csv('tabla_grafico.csv', index=False)\n",
    "\n",
    "datos = pd.read_csv(\"tabla_grafico.csv\")"
   ]
  },
  {
   "cell_type": "code",
   "execution_count": 100,
   "metadata": {},
   "outputs": [
    {
     "data": {
      "image/png": "[encoded data removed]",
      "text/plain": [
       "<Figure size 640x480 with 1 Axes>"
      ]
     },
     "metadata": {},
     "output_type": "display_data"
    }
   ],
   "source": [
    "# Bar Chart Using Matplotlib\n",
    "plt.bar(datos['Contador'], datos['workout_type'], color='skyblue')\n",
    "plt.title(\"Bar Chart\")\n",
    "plt.xlabel(\"Category\")\n",
    "plt.ylabel(\"Value\")\n",
    "plt.show()"
   ]
  },
  {
   "cell_type": "code",
   "execution_count": 101,
   "metadata": {},
   "outputs": [
    {
     "data": {
      "image/png": "[encoded data removed]",
      "text/plain": [
       "<Figure size 640x480 with 1 Axes>"
      ]
     },
     "metadata": {},
     "output_type": "display_data"
    }
   ],
   "source": [
    "sns.boxplot(x='Contador', y='workout_type', data=datos)\n",
    "plt.title(\"Box Chart by Category\")\n",
    "plt.xlabel(\"Category\")\n",
    "plt.ylabel(\"Value\")\n",
    "plt.show()"
   ]
  }
 ],
 "metadata": {
  "kernelspec": {
   "display_name": "base",
   "language": "python",
   "name": "python3"
  },
  "language_info": {
   "codemirror_mode": {
    "name": "ipython",
    "version": 3
   },
   "file_extension": ".py",
   "mimetype": "text/x-python",
   "name": "python",
   "nbconvert_exporter": "python",
   "pygments_lexer": "ipython3",
   "version": "3.9.13"
  }
 },
 "nbformat": 4,
 "nbformat_minor": 2
}
